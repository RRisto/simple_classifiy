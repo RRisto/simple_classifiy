{
 "cells": [
  {
   "cell_type": "code",
   "execution_count": 7,
   "metadata": {},
   "outputs": [],
   "source": [
    "from TextClass import Cleaners, LDA\n",
    "from gensim.corpora.dictionary import Dictionary"
   ]
  },
  {
   "cell_type": "markdown",
   "metadata": {
    "collapsed": true
   },
   "source": [
    "## Topic modelling"
   ]
  },
  {
   "cell_type": "code",
   "execution_count": 2,
   "metadata": {},
   "outputs": [],
   "source": [
    "texts=['you have very good service', \n",
    "       'mobiles are with high quality', \n",
    "       'your service is excellent',\n",
    "       'mobiles are cheap']"
   ]
  },
  {
   "cell_type": "markdown",
   "metadata": {},
   "source": [
    "#### some preporcessing (minimal is tokenization)"
   ]
  },
  {
   "cell_type": "code",
   "execution_count": 3,
   "metadata": {},
   "outputs": [],
   "source": [
    "cl=Cleaners.Cleaners()"
   ]
  },
  {
   "cell_type": "code",
   "execution_count": 4,
   "metadata": {},
   "outputs": [],
   "source": [
    "texts_toks=[]\n",
    "for text in texts:\n",
    "    toks=cl.tokenize(text)\n",
    "    texts_toks.append(toks)"
   ]
  },
  {
   "cell_type": "code",
   "execution_count": 5,
   "metadata": {},
   "outputs": [
    {
     "data": {
      "text/plain": [
       "[['you', 'have', 'very', 'good', 'service'],\n",
       " ['mobiles', 'are', 'with', 'high', 'quality'],\n",
       " ['your', 'service', 'is', 'excellent'],\n",
       " ['mobiles', 'are', 'cheap']]"
      ]
     },
     "execution_count": 5,
     "metadata": {},
     "output_type": "execute_result"
    }
   ],
   "source": [
    "texts_toks"
   ]
  },
  {
   "cell_type": "markdown",
   "metadata": {},
   "source": [
    "#### create model object"
   ]
  },
  {
   "cell_type": "code",
   "execution_count": 16,
   "metadata": {},
   "outputs": [],
   "source": [
    "lda=LDA.CustomLda(data=texts_toks)"
   ]
  },
  {
   "cell_type": "markdown",
   "metadata": {},
   "source": [
    "#### train LDA"
   ]
  },
  {
   "cell_type": "code",
   "execution_count": 17,
   "metadata": {},
   "outputs": [
    {
     "name": "stdout",
     "output_type": "stream",
     "text": [
      "Trained!\n"
     ]
    },
    {
     "name": "stderr",
     "output_type": "stream",
     "text": [
      "/home/ristohinno/text_class_env/lib/python3.5/site-packages/gensim/models/ldamodel.py:1077: DeprecationWarning: Calling np.sum(generator) is deprecated, and in the future will give a different result. Use np.sum(np.from_iter(generator)) or the python sum builtin instead.\n",
      "  score += np.sum(cnt * logsumexp(Elogthetad + Elogbeta[:, int(id)]) for id, cnt in doc)\n",
      "/home/ristohinno/text_class_env/lib/python3.5/site-packages/gensim/models/ldamodel.py:1077: DeprecationWarning: Calling np.sum(generator) is deprecated, and in the future will give a different result. Use np.sum(np.from_iter(generator)) or the python sum builtin instead.\n",
      "  score += np.sum(cnt * logsumexp(Elogthetad + Elogbeta[:, int(id)]) for id, cnt in doc)\n",
      "/home/ristohinno/text_class_env/lib/python3.5/site-packages/gensim/models/ldamodel.py:1077: DeprecationWarning: Calling np.sum(generator) is deprecated, and in the future will give a different result. Use np.sum(np.from_iter(generator)) or the python sum builtin instead.\n",
      "  score += np.sum(cnt * logsumexp(Elogthetad + Elogbeta[:, int(id)]) for id, cnt in doc)\n",
      "/home/ristohinno/text_class_env/lib/python3.5/site-packages/gensim/models/ldamodel.py:1077: DeprecationWarning: Calling np.sum(generator) is deprecated, and in the future will give a different result. Use np.sum(np.from_iter(generator)) or the python sum builtin instead.\n",
      "  score += np.sum(cnt * logsumexp(Elogthetad + Elogbeta[:, int(id)]) for id, cnt in doc)\n"
     ]
    }
   ],
   "source": [
    "num_topics=2\n",
    "random_state=1\n",
    "lda.train(num_topics, random_state=random_state)"
   ]
  },
  {
   "cell_type": "markdown",
   "metadata": {},
   "source": [
    "As LDA generation could be time consuming, if you have multicore machine set parameter workers on lda.train() higher than 1"
   ]
  },
  {
   "cell_type": "markdown",
   "metadata": {},
   "source": [
    "#### get topics"
   ]
  },
  {
   "cell_type": "code",
   "execution_count": 18,
   "metadata": {},
   "outputs": [
    {
     "data": {
      "text/plain": [
       "[(0,\n",
       "  '0.091*\"are\" + 0.089*\"service\" + 0.085*\"you\" + 0.084*\"high\" + 0.081*\"quality\" + 0.081*\"good\" + 0.080*\"mobiles\" + 0.080*\"have\" + 0.078*\"with\" + 0.075*\"very\"'),\n",
       " (1,\n",
       "  '0.112*\"mobiles\" + 0.104*\"service\" + 0.102*\"are\" + 0.085*\"your\" + 0.084*\"is\" + 0.084*\"excellent\" + 0.081*\"cheap\" + 0.054*\"very\" + 0.052*\"with\" + 0.050*\"have\"')]"
      ]
     },
     "execution_count": 18,
     "metadata": {},
     "output_type": "execute_result"
    }
   ],
   "source": [
    "lda.get_topics(num_topics)"
   ]
  },
  {
   "cell_type": "markdown",
   "metadata": {},
   "source": [
    "####  visualize"
   ]
  },
  {
   "cell_type": "code",
   "execution_count": 19,
   "metadata": {},
   "outputs": [
    {
     "name": "stderr",
     "output_type": "stream",
     "text": [
      "/home/ristohinno/text_class_env/lib/python3.5/site-packages/pyLDAvis/_prepare.py:257: FutureWarning: Sorting because non-concatenation axis is not aligned. A future version\n",
      "of pandas will change to not sort by default.\n",
      "\n",
      "To accept the future behavior, pass 'sort=False'.\n",
      "\n",
      "To retain the current behavior and silence the warning, pass 'sort=True'.\n",
      "\n",
      "  return pd.concat([default_term_info] + list(topic_dfs))\n"
     ]
    },
    {
     "data": {
      "text/html": [
       "\n",
       "<link rel=\"stylesheet\" type=\"text/css\" href=\"https://cdn.rawgit.com/bmabey/pyLDAvis/files/ldavis.v1.0.0.css\">\n",
       "\n",
       "\n",
       "<div id=\"ldavis_el58421401481625898248180156298\"></div>\n",
       "<script type=\"text/javascript\">\n",
       "\n",
       "var ldavis_el58421401481625898248180156298_data = {\"tinfo\": {\"logprob\": [14.0, 13.0, 12.0, 11.0, 10.0, 9.0, 8.0, 7.0, 6.0, 5.0, 4.0, 3.0, 2.0, 1.0, -2.4670000076293945, -2.4760000705718994, -2.509999990463257, -2.511199951171875, -2.5281999111175537, -2.555999994277954, -2.583899974822998, -2.3965001106262207, -2.4242000579833984, -2.519700050354004, -3.0571000576019287, -3.1384999752044678, -3.1394999027252197, -3.1700000762939453, -2.4630000591278076, -2.477099895477295, -2.47760009765625, -2.5185999870300293, -2.191699981689453, -2.260200023651123, -2.282399892807007, -2.9103000164031982, -2.947000026702881, -2.9860000610351562, -3.0113000869750977, -3.013000011444092, -3.066999912261963, -3.0820999145507812], \"Total\": [1.0, 1.0, 1.0, 1.0, 1.0, 1.0, 1.0, 1.0, 1.0, 1.0, 1.0, 1.0, 1.0, 1.0, 1.1567176580429077, 1.1544723510742188, 1.1461775302886963, 1.1459017992019653, 1.1418519020080566, 1.135396957397461, 1.1290956735610962, 1.6282403469085693, 1.6208951473236084, 1.5971285104751587, 1.045182704925537, 1.0343419313430786, 1.0342134237289429, 1.0303847789764404, 1.0303847789764404, 1.0342134237289429, 1.0343419313430786, 1.045182704925537, 1.5971285104751587, 1.6208951473236084, 1.6282403469085693, 1.1290956735610962, 1.135396957397461, 1.1418519020080566, 1.1459017992019653, 1.1461775302886963, 1.1544723510742188, 1.1567176580429077], \"Term\": [\"your\", \"is\", \"excellent\", \"cheap\", \"mobiles\", \"service\", \"are\", \"you\", \"high\", \"quality\", \"good\", \"have\", \"with\", \"very\", \"you\", \"high\", \"quality\", \"good\", \"have\", \"with\", \"very\", \"are\", \"service\", \"mobiles\", \"cheap\", \"excellent\", \"is\", \"your\", \"your\", \"is\", \"excellent\", \"cheap\", \"mobiles\", \"service\", \"are\", \"very\", \"with\", \"have\", \"good\", \"quality\", \"high\", \"you\"], \"loglift\": [14.0, 13.0, 12.0, 11.0, 10.0, 9.0, 8.0, 7.0, 6.0, 5.0, 4.0, 3.0, 2.0, 1.0, 0.2206999957561493, 0.21359999477863312, 0.1868000030517578, 0.1859000027179718, 0.17229999601840973, 0.1501999944448471, 0.12790000438690186, -0.05079999938607216, -0.07400000095367432, -0.15469999611377716, -0.26809999346733093, -0.3391000032424927, -0.3400000035762787, -0.3666999936103821, 0.3402000069618225, 0.32249999046325684, 0.32190001010894775, 0.2703999876976013, 0.17329999804496765, 0.09000000357627869, 0.0632999986410141, -0.19850000739097595, -0.24079999327659607, -0.2854999899864197, -0.314300000667572, -0.31630000472068787, -0.3774000108242035, -0.3944999873638153], \"Category\": [\"Default\", \"Default\", \"Default\", \"Default\", \"Default\", \"Default\", \"Default\", \"Default\", \"Default\", \"Default\", \"Default\", \"Default\", \"Default\", \"Default\", \"Topic1\", \"Topic1\", \"Topic1\", \"Topic1\", \"Topic1\", \"Topic1\", \"Topic1\", \"Topic1\", \"Topic1\", \"Topic1\", \"Topic1\", \"Topic1\", \"Topic1\", \"Topic1\", \"Topic2\", \"Topic2\", \"Topic2\", \"Topic2\", \"Topic2\", \"Topic2\", \"Topic2\", \"Topic2\", \"Topic2\", \"Topic2\", \"Topic2\", \"Topic2\", \"Topic2\", \"Topic2\"], \"Freq\": [1.0, 1.0, 1.0, 1.0, 1.0, 1.0, 1.0, 1.0, 1.0, 1.0, 1.0, 1.0, 1.0, 1.0, 0.8206971287727356, 0.8133322596549988, 0.7861248254776001, 0.7852206826210022, 0.7719365358352661, 0.7507643103599548, 0.7300956845283508, 0.8806188106536865, 0.8565259575843811, 0.7785701751708984, 0.4548574388027191, 0.41929933428764343, 0.4188779294490814, 0.4063197672367096, 0.6240650415420532, 0.6153354644775391, 0.6150426268577576, 0.5903252363204956, 0.8185583353042603, 0.7643691301345825, 0.7476215958595276, 0.398999959230423, 0.3846326768398285, 0.36991533637046814, 0.36068111658096313, 0.3600527048110962, 0.34114009141921997, 0.33602049946784973]}, \"R\": 14, \"token.table\": {\"Freq\": [0.6141599416732788, 0.6141599416732788, 0.9567705392837524, 0.9667983055114746, 0.8726751208305359, 0.8757703304290771, 0.8661965727806091, 0.966918408870697, 0.6261236667633057, 0.6261236667633057, 0.872465193271637, 0.6169430613517761, 0.6169430613517761, 0.8856645226478577, 0.8807492256164551, 0.8645151853561401, 0.970511257648468], \"Topic\": [1, 2, 2, 2, 1, 1, 1, 2, 1, 2, 1, 1, 2, 1, 1, 1, 2], \"Term\": [\"are\", \"are\", \"cheap\", \"excellent\", \"good\", \"have\", \"high\", \"is\", \"mobiles\", \"mobiles\", \"quality\", \"service\", \"service\", \"very\", \"with\", \"you\", \"your\"]}, \"lambda.step\": 0.01, \"topic.order\": [1, 2], \"mdsDat\": {\"topics\": [1, 2], \"y\": [0.0, 0.0], \"x\": [0.013860635459423063, -0.013860635459423063], \"Freq\": [56.90141296386719, 43.09858322143555], \"cluster\": [1, 1]}, \"plot.opts\": {\"xlab\": \"PC1\", \"ylab\": \"PC2\"}};\n",
       "\n",
       "function LDAvis_load_lib(url, callback){\n",
       "  var s = document.createElement('script');\n",
       "  s.src = url;\n",
       "  s.async = true;\n",
       "  s.onreadystatechange = s.onload = callback;\n",
       "  s.onerror = function(){console.warn(\"failed to load library \" + url);};\n",
       "  document.getElementsByTagName(\"head\")[0].appendChild(s);\n",
       "}\n",
       "\n",
       "if(typeof(LDAvis) !== \"undefined\"){\n",
       "   // already loaded: just create the visualization\n",
       "   !function(LDAvis){\n",
       "       new LDAvis(\"#\" + \"ldavis_el58421401481625898248180156298\", ldavis_el58421401481625898248180156298_data);\n",
       "   }(LDAvis);\n",
       "}else if(typeof define === \"function\" && define.amd){\n",
       "   // require.js is available: use it to load d3/LDAvis\n",
       "   require.config({paths: {d3: \"https://cdnjs.cloudflare.com/ajax/libs/d3/3.5.5/d3.min\"}});\n",
       "   require([\"d3\"], function(d3){\n",
       "      window.d3 = d3;\n",
       "      LDAvis_load_lib(\"https://cdn.rawgit.com/bmabey/pyLDAvis/files/ldavis.v1.0.0.js\", function(){\n",
       "        new LDAvis(\"#\" + \"ldavis_el58421401481625898248180156298\", ldavis_el58421401481625898248180156298_data);\n",
       "      });\n",
       "    });\n",
       "}else{\n",
       "    // require.js not available: dynamically load d3 & LDAvis\n",
       "    LDAvis_load_lib(\"https://cdnjs.cloudflare.com/ajax/libs/d3/3.5.5/d3.min.js\", function(){\n",
       "         LDAvis_load_lib(\"https://cdn.rawgit.com/bmabey/pyLDAvis/files/ldavis.v1.0.0.js\", function(){\n",
       "                 new LDAvis(\"#\" + \"ldavis_el58421401481625898248180156298\", ldavis_el58421401481625898248180156298_data);\n",
       "            })\n",
       "         });\n",
       "}\n",
       "</script>"
      ],
      "text/plain": [
       "<IPython.core.display.HTML object>"
      ]
     },
     "execution_count": 19,
     "metadata": {},
     "output_type": "execute_result"
    }
   ],
   "source": [
    "lda.display() #to save it use lda.save_ldavis(filename.html)"
   ]
  },
  {
   "cell_type": "markdown",
   "metadata": {},
   "source": [
    "#### get topic model coherence"
   ]
  },
  {
   "cell_type": "code",
   "execution_count": 20,
   "metadata": {},
   "outputs": [
    {
     "data": {
      "text/plain": [
       "-18.4207872803441"
      ]
     },
     "execution_count": 20,
     "metadata": {},
     "output_type": "execute_result"
    }
   ],
   "source": [
    "#supports coherence moethod implemented by gensim\n",
    "lda.get_coherence('u_mass')"
   ]
  },
  {
   "cell_type": "code",
   "execution_count": null,
   "metadata": {},
   "outputs": [],
   "source": []
  }
 ],
 "metadata": {
  "kernelspec": {
   "display_name": "Python 3",
   "language": "python",
   "name": "python3"
  },
  "language_info": {
   "codemirror_mode": {
    "name": "ipython",
    "version": 3
   },
   "file_extension": ".py",
   "mimetype": "text/x-python",
   "name": "python",
   "nbconvert_exporter": "python",
   "pygments_lexer": "ipython3",
   "version": "3.5.2"
  }
 },
 "nbformat": 4,
 "nbformat_minor": 2
}
