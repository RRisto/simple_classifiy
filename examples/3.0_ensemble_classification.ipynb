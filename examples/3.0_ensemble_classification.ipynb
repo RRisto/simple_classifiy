{
 "cells": [
  {
   "cell_type": "code",
   "execution_count": 13,
   "metadata": {},
   "outputs": [],
   "source": [
    "from TextClass.ClassifierCv import ClassifierCv\n",
    "from TextClass.EnsembleClassifier import EnsembleClassifier\n",
    "from TextClass.FasttextClassifier import FasttextClassifier\n",
    "import pandas as pd\n",
    "\n",
    "from sklearn.pipeline import Pipeline\n",
    "from sklearn.feature_extraction.text import CountVectorizer, TfidfTransformer\n",
    "from sklearn.naive_bayes import MultinomialNB\n",
    "from sklearn.linear_model import SGDClassifier\n",
    "from sklearn.svm import LinearSVC"
   ]
  },
  {
   "cell_type": "markdown",
   "metadata": {},
   "source": [
    "## Ensemble classification"
   ]
  },
  {
   "cell_type": "markdown",
   "metadata": {},
   "source": [
    "ensemble classifiers use more than one classfier and combine results. Similar to skleanr VotingClassifier, but adjusted for FastText"
   ]
  },
  {
   "cell_type": "markdown",
   "metadata": {},
   "source": [
    "#### data"
   ]
  },
  {
   "cell_type": "code",
   "execution_count": 5,
   "metadata": {},
   "outputs": [],
   "source": [
    "text=['i am happy', 'i very friendly','you are happy', 'you are friendly','we are friendly', 'you are bad',\n",
    "      'i am bad','i am unhappy','you are unhappy', 'we are unhappy']\n",
    "category=['pos','pos','pos','pos','pos','neg','neg','neg','neg','neg']\n",
    "data=pd.DataFrame({\"text\":text, \"category\":category})"
   ]
  },
  {
   "cell_type": "markdown",
   "metadata": {},
   "source": [
    "#### define base classifiers with pipelines"
   ]
  },
  {
   "cell_type": "code",
   "execution_count": 14,
   "metadata": {},
   "outputs": [],
   "source": [
    "linear_svm=LinearSVC()\n",
    "nb=MultinomialNB()\n",
    "ft=FasttextClassifier()\n",
    "\n",
    "nb_pipe=Pipeline([('vect', CountVectorizer()),\n",
    "                  ('tfidf', TfidfTransformer()),\n",
    "                  ('clf',nb)])\n",
    "linear_svm_pipe=Pipeline([('vect', CountVectorizer()),\n",
    "                          ('tfidf', TfidfTransformer()),\n",
    "                          ('clf',linear_svm)])"
   ]
  },
  {
   "cell_type": "markdown",
   "metadata": {},
   "source": [
    "#### make ensemble classifier"
   ]
  },
  {
   "cell_type": "code",
   "execution_count": 19,
   "metadata": {},
   "outputs": [],
   "source": [
    "#as fasttext takes text as input, no preprocessing is needed. \n",
    "#But if fasttext is not used single pipeline for all classfiers could be used\n",
    "ensemble_clf=EnsembleClassifier([nb_pipe, linear_svm_pipe, ft])"
   ]
  },
  {
   "cell_type": "markdown",
   "metadata": {},
   "source": [
    "#### initialize main model object and train"
   ]
  },
  {
   "cell_type": "code",
   "execution_count": 20,
   "metadata": {},
   "outputs": [],
   "source": [
    "cf_cv=ClassifierCv(data['category'],data['text'])"
   ]
  },
  {
   "cell_type": "code",
   "execution_count": 21,
   "metadata": {},
   "outputs": [
    {
     "name": "stdout",
     "output_type": "stream",
     "text": [
      "MEDIAN\n",
      "0    0.664286\n",
      "dtype: float64\n",
      "MEAN\n",
      "0    0.664286\n",
      "dtype: float64\n",
      "Failed to generate roc_auc/precision_recall plot\n"
     ]
    },
    {
     "data": {
      "image/png": "[encoded data removed]",
      "text/plain": [
       "<Figure size 432x288 with 1 Axes>"
      ]
     },
     "metadata": {
      "needs_background": "light"
     },
     "output_type": "display_data"
    },
    {
     "data": {
      "text/plain": [
       "<Figure size 432x288 with 0 Axes>"
      ]
     },
     "metadata": {},
     "output_type": "display_data"
    }
   ],
   "source": [
    "cf_cv.train_save_metrics([('clf', ensemble_clf),], \n",
    "                           'f1', \n",
    "                         'stacking',\n",
    "                         num_cv=2,\n",
    "                         roc_auc=False)"
   ]
  },
  {
   "cell_type": "code",
   "execution_count": null,
   "metadata": {},
   "outputs": [],
   "source": []
  }
 ],
 "metadata": {
  "kernelspec": {
   "display_name": "Python 3",
   "language": "python",
   "name": "python3"
  },
  "language_info": {
   "codemirror_mode": {
    "name": "ipython",
    "version": 3
   },
   "file_extension": ".py",
   "mimetype": "text/x-python",
   "name": "python",
   "nbconvert_exporter": "python",
   "pygments_lexer": "ipython3",
   "version": "3.5.2"
  }
 },
 "nbformat": 4,
 "nbformat_minor": 2
}
